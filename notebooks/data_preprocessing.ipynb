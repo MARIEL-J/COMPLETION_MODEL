{
 "cells": [
  {
   "cell_type": "markdown",
   "id": "f47b77c5",
   "metadata": {},
   "source": [
    "# Partie 1 : Analyse descriptive et exploratoire des données"
   ]
  },
  {
   "cell_type": "code",
   "execution_count": 86,
   "id": "5a146326",
   "metadata": {},
   "outputs": [],
   "source": [
    "# 1. Import des bibliothèques\n",
    "import json\n",
    "import pandas as pd\n",
    "import matplotlib.pyplot as plt\n",
    "import seaborn as sns\n",
    "import os"
   ]
  },
  {
   "cell_type": "code",
   "execution_count": 87,
   "id": "ff7d36bd",
   "metadata": {},
   "outputs": [
    {
     "data": {
      "text/html": [
       "<div>\n",
       "<style scoped>\n",
       "    .dataframe tbody tr th:only-of-type {\n",
       "        vertical-align: middle;\n",
       "    }\n",
       "\n",
       "    .dataframe tbody tr th {\n",
       "        vertical-align: top;\n",
       "    }\n",
       "\n",
       "    .dataframe thead th {\n",
       "        text-align: right;\n",
       "    }\n",
       "</style>\n",
       "<table border=\"1\" class=\"dataframe\">\n",
       "  <thead>\n",
       "    <tr style=\"text-align: right;\">\n",
       "      <th></th>\n",
       "      <th>prompt</th>\n",
       "      <th>completion</th>\n",
       "    </tr>\n",
       "  </thead>\n",
       "  <tbody>\n",
       "    <tr>\n",
       "      <th>0</th>\n",
       "      <td>Je veux faire une demande de : inscription à l...</td>\n",
       "      <td>Description : Ce service permet d’obtenir le d...</td>\n",
       "    </tr>\n",
       "    <tr>\n",
       "      <th>1</th>\n",
       "      <td>Je veux faire une demande de : permis de const...</td>\n",
       "      <td>Description : Il vise à fournir un justificati...</td>\n",
       "    </tr>\n",
       "    <tr>\n",
       "      <th>2</th>\n",
       "      <td>Je veux faire une demande de : régularisation ...</td>\n",
       "      <td>Description : Ce service est indispensable pou...</td>\n",
       "    </tr>\n",
       "    <tr>\n",
       "      <th>3</th>\n",
       "      <td>Je veux faire une demande de : duplicata de ca...</td>\n",
       "      <td>Description : Il vise à fournir un justificati...</td>\n",
       "    </tr>\n",
       "    <tr>\n",
       "      <th>4</th>\n",
       "      <td>Je veux faire une demande de : duplicata de ca...</td>\n",
       "      <td>Description : Il vise à fournir un justificati...</td>\n",
       "    </tr>\n",
       "  </tbody>\n",
       "</table>\n",
       "</div>"
      ],
      "text/plain": [
       "                                              prompt  \\\n",
       "0  Je veux faire une demande de : inscription à l...   \n",
       "1  Je veux faire une demande de : permis de const...   \n",
       "2  Je veux faire une demande de : régularisation ...   \n",
       "3  Je veux faire une demande de : duplicata de ca...   \n",
       "4  Je veux faire une demande de : duplicata de ca...   \n",
       "\n",
       "                                          completion  \n",
       "0  Description : Ce service permet d’obtenir le d...  \n",
       "1  Description : Il vise à fournir un justificati...  \n",
       "2  Description : Ce service est indispensable pou...  \n",
       "3  Description : Il vise à fournir un justificati...  \n",
       "4  Description : Il vise à fournir un justificati...  "
      ]
     },
     "execution_count": 87,
     "metadata": {},
     "output_type": "execute_result"
    }
   ],
   "source": [
    "# Configurations pour les graphiques\n",
    "sns.set(style=\"whitegrid\")\n",
    "plt.rcParams[\"figure.figsize\"] = (12, 6)\n",
    "\n",
    "# 2. Chargement du fichier JSONL\n",
    "file_path = \"../data/prompts_completions.jsonl\"\n",
    "\n",
    "data = []\n",
    "with open(file_path, 'r', encoding='utf-8') as f:\n",
    "    for line in f:\n",
    "        item = json.loads(line)\n",
    "        data.append(item)\n",
    "\n",
    "df = pd.DataFrame(data)\n",
    "\n",
    "# 3. Aperçu des données\n",
    "df.head()"
   ]
  },
  {
   "cell_type": "code",
   "execution_count": 88,
   "id": "dd8c1188",
   "metadata": {},
   "outputs": [
    {
     "name": "stdout",
     "output_type": "stream",
     "text": [
      "<class 'pandas.core.frame.DataFrame'>\n",
      "RangeIndex: 1000 entries, 0 to 999\n",
      "Data columns (total 2 columns):\n",
      " #   Column      Non-Null Count  Dtype \n",
      "---  ------      --------------  ----- \n",
      " 0   prompt      1000 non-null   object\n",
      " 1   completion  1000 non-null   object\n",
      "dtypes: object(2)\n",
      "memory usage: 15.8+ KB\n"
     ]
    }
   ],
   "source": [
    "# Vue d'ensemble du dataset\n",
    "df.info()"
   ]
  },
  {
   "cell_type": "code",
   "execution_count": 89,
   "id": "e3257ae9",
   "metadata": {},
   "outputs": [
    {
     "name": "stdout",
     "output_type": "stream",
     "text": [
      "Nombre total d'exemples : 1000\n",
      "Valeurs manquantes :\n",
      "prompt        0\n",
      "completion    0\n",
      "dtype: int64\n",
      "Doublons : 167\n"
     ]
    }
   ],
   "source": [
    "# Nombre d'exemples\n",
    "print(f\"Nombre total d'exemples : {len(df)}\")\n",
    "# Valeurs manquantes\n",
    "print(\"Valeurs manquantes :\")\n",
    "print(df.isnull().sum())\n",
    "\n",
    "# Doublons\n",
    "print(f\"Doublons : {df.duplicated().sum()}\")"
   ]
  },
  {
   "cell_type": "code",
   "execution_count": 90,
   "id": "15f9f5a9",
   "metadata": {},
   "outputs": [
    {
     "data": {
      "text/html": [
       "<div>\n",
       "<style scoped>\n",
       "    .dataframe tbody tr th:only-of-type {\n",
       "        vertical-align: middle;\n",
       "    }\n",
       "\n",
       "    .dataframe tbody tr th {\n",
       "        vertical-align: top;\n",
       "    }\n",
       "\n",
       "    .dataframe thead th {\n",
       "        text-align: right;\n",
       "    }\n",
       "</style>\n",
       "<table border=\"1\" class=\"dataframe\">\n",
       "  <thead>\n",
       "    <tr style=\"text-align: right;\">\n",
       "      <th></th>\n",
       "      <th>prompt_len</th>\n",
       "      <th>completion_len</th>\n",
       "    </tr>\n",
       "  </thead>\n",
       "  <tbody>\n",
       "    <tr>\n",
       "      <th>count</th>\n",
       "      <td>1000.000000</td>\n",
       "      <td>1000.000000</td>\n",
       "    </tr>\n",
       "    <tr>\n",
       "      <th>mean</th>\n",
       "      <td>10.729000</td>\n",
       "      <td>48.427000</td>\n",
       "    </tr>\n",
       "    <tr>\n",
       "      <th>std</th>\n",
       "      <td>1.010237</td>\n",
       "      <td>1.896383</td>\n",
       "    </tr>\n",
       "    <tr>\n",
       "      <th>min</th>\n",
       "      <td>9.000000</td>\n",
       "      <td>44.000000</td>\n",
       "    </tr>\n",
       "    <tr>\n",
       "      <th>25%</th>\n",
       "      <td>10.000000</td>\n",
       "      <td>47.000000</td>\n",
       "    </tr>\n",
       "    <tr>\n",
       "      <th>50%</th>\n",
       "      <td>11.000000</td>\n",
       "      <td>48.000000</td>\n",
       "    </tr>\n",
       "    <tr>\n",
       "      <th>75%</th>\n",
       "      <td>11.000000</td>\n",
       "      <td>49.000000</td>\n",
       "    </tr>\n",
       "    <tr>\n",
       "      <th>max</th>\n",
       "      <td>13.000000</td>\n",
       "      <td>56.000000</td>\n",
       "    </tr>\n",
       "  </tbody>\n",
       "</table>\n",
       "</div>"
      ],
      "text/plain": [
       "        prompt_len  completion_len\n",
       "count  1000.000000     1000.000000\n",
       "mean     10.729000       48.427000\n",
       "std       1.010237        1.896383\n",
       "min       9.000000       44.000000\n",
       "25%      10.000000       47.000000\n",
       "50%      11.000000       48.000000\n",
       "75%      11.000000       49.000000\n",
       "max      13.000000       56.000000"
      ]
     },
     "execution_count": 90,
     "metadata": {},
     "output_type": "execute_result"
    }
   ],
   "source": [
    "# Ajout des longueurs\n",
    "df['prompt_len'] = df['prompt'].apply(lambda x: len(x.split()))\n",
    "df['completion_len'] = df['completion'].apply(lambda x: len(x.split()))\n",
    "\n",
    "# Statistiques descriptives\n",
    "df[['prompt_len', 'completion_len']].describe()"
   ]
  },
  {
   "cell_type": "code",
   "execution_count": 91,
   "id": "672ebffe",
   "metadata": {},
   "outputs": [
    {
     "data": {
      "image/png": "[encoded data removed]",
      "text/plain": [
       "<Figure size 1200x600 with 1 Axes>"
      ]
     },
     "metadata": {},
     "output_type": "display_data"
    },
    {
     "data": {
      "image/png": "[encoded data removed]",
      "text/plain": [
       "<Figure size 1200x600 with 1 Axes>"
      ]
     },
     "metadata": {},
     "output_type": "display_data"
    }
   ],
   "source": [
    "# Longueur des prompts\n",
    "sns.histplot(df['prompt_len'], bins=30, kde=True, color='skyblue')\n",
    "plt.title(\"Distribution de la longueur des prompts (en mots)\")\n",
    "plt.xlabel(\"Nombre de mots\")\n",
    "plt.ylabel(\"Fréquence\")\n",
    "plt.show()\n",
    "\n",
    "# Longueur des completions\n",
    "sns.histplot(df['completion_len'], bins=30, kde=True, color='salmon')\n",
    "plt.title(\"Distribution de la longueur des completions (en mots)\")\n",
    "plt.xlabel(\"Nombre de mots\")\n",
    "plt.ylabel(\"Fréquence\")\n",
    "plt.show()\n"
   ]
  },
  {
   "cell_type": "code",
   "execution_count": 92,
   "id": "3df5a918",
   "metadata": {},
   "outputs": [
    {
     "data": {
      "image/png": "[encoded data removed]",
      "text/plain": [
       "<Figure size 1200x600 with 1 Axes>"
      ]
     },
     "metadata": {},
     "output_type": "display_data"
    }
   ],
   "source": [
    "sns.scatterplot(data=df, x='prompt_len', y='completion_len')\n",
    "plt.title(\"Corrélation entre la longueur du prompt et celle de la completion\")\n",
    "plt.xlabel(\"Prompt (nb de mots)\")\n",
    "plt.ylabel(\"Completion (nb de mots)\")\n",
    "plt.show()"
   ]
  },
  {
   "cell_type": "code",
   "execution_count": 93,
   "id": "3fbf54f3",
   "metadata": {},
   "outputs": [
    {
     "name": "stdout",
     "output_type": "stream",
     "text": [
      "Nombre d'exemples après nettoyage : 833\n"
     ]
    }
   ],
   "source": [
    "# Suppression des valeurs manquantes ou vides\n",
    "df_cleaned = df.dropna()\n",
    "df_cleaned = df_cleaned[(df_cleaned['prompt'].str.strip() != \"\") & (df_cleaned['completion'].str.strip() != \"\")]\n",
    "\n",
    "# Suppression des doublons\n",
    "df_cleaned = df_cleaned.drop_duplicates()\n",
    "\n",
    "print(f\"Nombre d'exemples après nettoyage : {len(df_cleaned)}\")"
   ]
  },
  {
   "cell_type": "code",
   "execution_count": 94,
   "id": "b19e9635",
   "metadata": {},
   "outputs": [
    {
     "name": "stdout",
     "output_type": "stream",
     "text": [
      "                                              prompt  \\\n",
      "0  Je veux faire une demande de : inscription à l...   \n",
      "1  Je veux faire une demande de : permis de const...   \n",
      "2  Je veux faire une demande de : régularisation ...   \n",
      "3  Je veux faire une demande de : duplicata de ca...   \n",
      "4  Je veux faire une demande de : duplicata de ca...   \n",
      "\n",
      "                                          completion  prompt_len  \\\n",
      "0  Description : Ce service permet d’obtenir le d...          11   \n",
      "1  Description : Il vise à fournir un justificati...          10   \n",
      "2  Description : Ce service est indispensable pou...          11   \n",
      "3  Description : Il vise à fournir un justificati...          11   \n",
      "4  Description : Il vise à fournir un justificati...          11   \n",
      "\n",
      "   completion_len  \n",
      "0              48  \n",
      "1              48  \n",
      "2              56  \n",
      "3              48  \n",
      "4              47  \n"
     ]
    }
   ],
   "source": [
    "print(df_cleaned.head())"
   ]
  },
  {
   "cell_type": "markdown",
   "id": "67666b16",
   "metadata": {},
   "source": [
    "# Partie 2 : Préparation des données pour le modèle"
   ]
  },
  {
   "cell_type": "code",
   "execution_count": 95,
   "id": "efac6c33",
   "metadata": {},
   "outputs": [],
   "source": [
    "import json\n",
    "import pandas as pd\n",
    "from collections import defaultdict\n",
    "import torch\n",
    "import torch.nn as nn\n",
    "from torch.utils.data import Dataset, DataLoader"
   ]
  },
  {
   "cell_type": "code",
   "execution_count": 96,
   "id": "a666253f",
   "metadata": {},
   "outputs": [
    {
     "data": {
      "text/html": [
       "<div>\n",
       "<style scoped>\n",
       "    .dataframe tbody tr th:only-of-type {\n",
       "        vertical-align: middle;\n",
       "    }\n",
       "\n",
       "    .dataframe tbody tr th {\n",
       "        vertical-align: top;\n",
       "    }\n",
       "\n",
       "    .dataframe thead th {\n",
       "        text-align: right;\n",
       "    }\n",
       "</style>\n",
       "<table border=\"1\" class=\"dataframe\">\n",
       "  <thead>\n",
       "    <tr style=\"text-align: right;\">\n",
       "      <th></th>\n",
       "      <th>prompt</th>\n",
       "      <th>completion</th>\n",
       "    </tr>\n",
       "  </thead>\n",
       "  <tbody>\n",
       "    <tr>\n",
       "      <th>0</th>\n",
       "      <td>Je veux faire une demande de : inscription à l...</td>\n",
       "      <td>Description : Ce service permet d’obtenir le d...</td>\n",
       "    </tr>\n",
       "    <tr>\n",
       "      <th>1</th>\n",
       "      <td>Je veux faire une demande de : permis de const...</td>\n",
       "      <td>Description : Il vise à fournir un justificati...</td>\n",
       "    </tr>\n",
       "    <tr>\n",
       "      <th>2</th>\n",
       "      <td>Je veux faire une demande de : régularisation ...</td>\n",
       "      <td>Description : Ce service est indispensable pou...</td>\n",
       "    </tr>\n",
       "    <tr>\n",
       "      <th>3</th>\n",
       "      <td>Je veux faire une demande de : duplicata de ca...</td>\n",
       "      <td>Description : Il vise à fournir un justificati...</td>\n",
       "    </tr>\n",
       "    <tr>\n",
       "      <th>4</th>\n",
       "      <td>Je veux faire une demande de : duplicata de ca...</td>\n",
       "      <td>Description : Il vise à fournir un justificati...</td>\n",
       "    </tr>\n",
       "  </tbody>\n",
       "</table>\n",
       "</div>"
      ],
      "text/plain": [
       "                                              prompt  \\\n",
       "0  Je veux faire une demande de : inscription à l...   \n",
       "1  Je veux faire une demande de : permis de const...   \n",
       "2  Je veux faire une demande de : régularisation ...   \n",
       "3  Je veux faire une demande de : duplicata de ca...   \n",
       "4  Je veux faire une demande de : duplicata de ca...   \n",
       "\n",
       "                                          completion  \n",
       "0  Description : Ce service permet d’obtenir le d...  \n",
       "1  Description : Il vise à fournir un justificati...  \n",
       "2  Description : Ce service est indispensable pou...  \n",
       "3  Description : Il vise à fournir un justificati...  \n",
       "4  Description : Il vise à fournir un justificati...  "
      ]
     },
     "execution_count": 96,
     "metadata": {},
     "output_type": "execute_result"
    }
   ],
   "source": [
    "# Lecture du fichier JSONL\n",
    "data = []\n",
    "with open(\"../data/prompts_completions.jsonl\", \"r\", encoding=\"utf-8\") as f:\n",
    "    for line in f:\n",
    "        data.append(json.loads(line.strip()))\n",
    "\n",
    "df = pd.DataFrame(data)\n",
    "df.head()"
   ]
  },
  {
   "cell_type": "code",
   "execution_count": 97,
   "id": "105d3e71",
   "metadata": {},
   "outputs": [],
   "source": [
    "df = df_cleaned"
   ]
  },
  {
   "cell_type": "code",
   "execution_count": 98,
   "id": "7f0fc206",
   "metadata": {},
   "outputs": [],
   "source": [
    "def clean_text(text):\n",
    "    text = text.lower().strip()\n",
    "    return text.replace(\":\", \" :\").replace(\"\\n\", \" \")  # séparateur logique pour les tokens\n",
    "\n",
    "df['prompt_clean'] = df['prompt'].apply(clean_text)\n",
    "df['completion_clean'] = df['completion'].apply(lambda x: \"<sos> \" + clean_text(x) + \" <eos>\")"
   ]
  },
  {
   "cell_type": "code",
   "execution_count": 99,
   "id": "855477f2",
   "metadata": {},
   "outputs": [],
   "source": [
    "# Tokenisation (split sur les espaces)\n",
    "\n",
    "df['prompt_tokens'] = df['prompt_clean'].apply(lambda x: x.split())\n",
    "df['completion_tokens'] = df['completion_clean'].apply(lambda x: x.split())"
   ]
  },
  {
   "cell_type": "code",
   "execution_count": 100,
   "id": "038cd031",
   "metadata": {},
   "outputs": [
    {
     "name": "stdout",
     "output_type": "stream",
     "text": [
      "Vocab size: 173\n"
     ]
    }
   ],
   "source": [
    "# Création du vocabulaire\n",
    "\n",
    "word2idx = {\"<pad>\": 0, \"<unk>\": 1, \"<sos>\": 2, \"<eos>\": 3}\n",
    "idx = 4\n",
    "\n",
    "for tokens in df['prompt_tokens'].tolist() + df['completion_tokens'].tolist():\n",
    "    for token in tokens:\n",
    "        if token not in word2idx:\n",
    "            word2idx[token] = idx\n",
    "            idx += 1\n",
    "\n",
    "idx2word = {i: w for w, i in word2idx.items()}\n",
    "vocab_size = len(word2idx)\n",
    "print(f\"Vocab size: {vocab_size}\")"
   ]
  },
  {
   "cell_type": "code",
   "execution_count": 101,
   "id": "2cb6f429",
   "metadata": {},
   "outputs": [],
   "source": [
    "#  Encodage des tokens\n",
    "\n",
    "def encode(tokens, word2idx):\n",
    "    return [word2idx.get(token, word2idx[\"<unk>\"]) for token in tokens]\n",
    "\n",
    "df['prompt_ids'] = df['prompt_tokens'].apply(lambda x: encode(x, word2idx))\n",
    "df['completion_ids'] = df['completion_tokens'].apply(lambda x: encode(x, word2idx))"
   ]
  },
  {
   "cell_type": "code",
   "execution_count": 102,
   "id": "ca746c36",
   "metadata": {},
   "outputs": [],
   "source": [
    "# Padding des séquences\n",
    "\n",
    "def pad_sequence(seq, max_len):\n",
    "    return seq + [0] * (max_len - len(seq)) if len(seq) < max_len else seq[:max_len]\n",
    "\n",
    "max_prompt_len = max(df['prompt_ids'].apply(len))\n",
    "max_completion_len = max(df['completion_ids'].apply(len))\n",
    "\n",
    "df['prompt_padded'] = df['prompt_ids'].apply(lambda x: pad_sequence(x, max_prompt_len))\n",
    "df['completion_padded'] = df['completion_ids'].apply(lambda x: pad_sequence(x, max_completion_len))"
   ]
  },
  {
   "cell_type": "code",
   "execution_count": 103,
   "id": "f2c11e77",
   "metadata": {},
   "outputs": [],
   "source": [
    "# Création du Dataset PyTorch\n",
    "\n",
    "class DémarcheDataset(Dataset):\n",
    "    def __init__(self, df):\n",
    "        self.inputs = torch.tensor(df['prompt_padded'].tolist(), dtype=torch.long)\n",
    "        self.targets = torch.tensor(df['completion_padded'].tolist(), dtype=torch.long)\n",
    "\n",
    "    def __len__(self):\n",
    "        return len(self.inputs)\n",
    "\n",
    "    def __getitem__(self, idx):\n",
    "        return self.inputs[idx], self.targets[idx]\n",
    "\n",
    "dataset = DémarcheDataset(df)\n",
    "dataloader = DataLoader(dataset, batch_size=16, shuffle=True)"
   ]
  },
  {
   "cell_type": "code",
   "execution_count": 104,
   "id": "58c74164",
   "metadata": {},
   "outputs": [],
   "source": [
    "# Split train / validation\n",
    "\n",
    "from torch.utils.data import DataLoader, random_split\n",
    "\n",
    "import scipy\n",
    "train_size = int(0.9 * len(dataset))\n",
    "val_size = len(dataset) - train_size\n",
    "train_dataset, val_dataset = random_split(dataset, [train_size, val_size])\n",
    "\n",
    "train_loader = DataLoader(train_dataset, batch_size=32, shuffle=True)\n",
    "val_loader = DataLoader(val_dataset, batch_size=32)"
   ]
  },
  {
   "cell_type": "markdown",
   "id": "256aba1e",
   "metadata": {},
   "source": [
    "# Partie 3 : Construction du modèle Seq2Seq avec PyTorch"
   ]
  },
  {
   "cell_type": "code",
   "execution_count": 105,
   "id": "0c5adc2e",
   "metadata": {},
   "outputs": [],
   "source": [
    "# Classe du modèle 'Seq2SeqModel'\n",
    "\n",
    "import torch\n",
    "import torch.nn as nn\n",
    "\n",
    "class Seq2SeqModel(nn.Module):\n",
    "    def __init__(self, vocab_size, embed_dim, hidden_dim, pad_idx, sos_idx, eos_idx):\n",
    "        super().__init__()\n",
    "        self.embedding = nn.Embedding(vocab_size, embed_dim, padding_idx=pad_idx)\n",
    "        self.encoder = nn.LSTM(embed_dim, hidden_dim, batch_first=True)\n",
    "        self.decoder = nn.LSTM(embed_dim, hidden_dim, batch_first=True)\n",
    "        self.fc_out = nn.Linear(hidden_dim, vocab_size)\n",
    "        self.sos_idx = sos_idx\n",
    "        self.eos_idx = eos_idx\n",
    "\n",
    "    def forward(self, src, tgt):\n",
    "        # Teacher forcing\n",
    "        embedded_src = self.embedding(src)\n",
    "        embedded_tgt = self.embedding(tgt)\n",
    "        _, (hidden, cell) = self.encoder(embedded_src)\n",
    "        outputs, _ = self.decoder(embedded_tgt, (hidden, cell))\n",
    "        logits = self.fc_out(outputs)\n",
    "        return logits\n",
    "\n",
    "    def generate(self, src, max_len=50, device=None):\n",
    "        device = device or torch.device(\"cuda\" if torch.cuda.is_available() else \"cpu\")\n",
    "        self.eval()\n",
    "        src = src.to(device)\n",
    "        embedded_src = self.embedding(src)\n",
    "        _, (hidden, cell) = self.encoder(embedded_src)\n",
    "\n",
    "        input_token = torch.tensor([[self.sos_idx]], device=device)\n",
    "        generated_indices = []\n",
    "\n",
    "        for _ in range(max_len):\n",
    "            embedded = self.embedding(input_token)\n",
    "            output, (hidden, cell) = self.decoder(embedded, (hidden, cell))\n",
    "            logits = self.fc_out(output.squeeze(1))\n",
    "            next_token = torch.argmax(logits, dim=1)\n",
    "\n",
    "            if next_token.item() == self.eos_idx:\n",
    "                break\n",
    "\n",
    "            generated_indices.append(next_token.item())\n",
    "            input_token = next_token.unsqueeze(0)  # batch size = 1\n",
    "\n",
    "        return generated_indices"
   ]
  },
  {
   "cell_type": "code",
   "execution_count": 106,
   "id": "26c20f7d",
   "metadata": {},
   "outputs": [],
   "source": [
    "# Définition des hyperparamètres et initialisation\n",
    "\n",
    "# Initialisation\n",
    "model = Seq2SeqModel(\n",
    "    vocab_size=len(word2idx),\n",
    "    embed_dim=128,\n",
    "    hidden_dim=256,\n",
    "    pad_idx=word2idx[\"<pad>\"],\n",
    "    sos_idx=word2idx[\"<sos>\"],\n",
    "    eos_idx=word2idx[\"<eos>\"]\n",
    ")"
   ]
  },
  {
   "cell_type": "code",
   "execution_count": 107,
   "id": "1e58d49b",
   "metadata": {},
   "outputs": [],
   "source": [
    "vocab = word2idx"
   ]
  },
  {
   "cell_type": "code",
   "execution_count": 108,
   "id": "64de7329",
   "metadata": {},
   "outputs": [],
   "source": [
    "#  Définition de la fonction de perte et de l’optimiseur\n",
    "\n",
    "criterion = nn.CrossEntropyLoss(ignore_index=word2idx[\"<pad>\"])\n",
    "optimizer = torch.optim.Adam(model.parameters(), lr=0.001)"
   ]
  },
  {
   "cell_type": "code",
   "execution_count": 109,
   "id": "04019049",
   "metadata": {},
   "outputs": [
    {
     "name": "stdout",
     "output_type": "stream",
     "text": [
      "Logits shape : torch.Size([2, 10, 173])\n"
     ]
    }
   ],
   "source": [
    "# Vérification rapide : test avec un batch dummy :\n",
    "\n",
    "# Dummy input (batch_size=2, seq_len=10)\n",
    "src = torch.randint(0, len(vocab), (2, 10))  # prompt encodé\n",
    "tgt = torch.randint(0, len(vocab), (2, 10))  # completion encodée\n",
    "\n",
    "out = model(src, tgt)\n",
    "print(\"Logits shape :\", out.shape)  # Should be [2, 10, vocab_size]"
   ]
  },
  {
   "cell_type": "code",
   "execution_count": 110,
   "id": "21f9f1ed",
   "metadata": {},
   "outputs": [
    {
     "name": "stdout",
     "output_type": "stream",
     "text": [
      "Vocabulaire sauvegardé dans : ../models/vocab.json\n"
     ]
    }
   ],
   "source": [
    "# Chemin de sauvegarde\n",
    "vocab_path = \"../models/vocab.json\"\n",
    "\n",
    "# Sauvegarde du vocabulaire\n",
    "with open(vocab_path, \"w\", encoding=\"utf-8\") as f:\n",
    "    json.dump(vocab, f, ensure_ascii=False, indent=4)\n",
    "\n",
    "print(f\"Vocabulaire sauvegardé dans : {vocab_path}\")"
   ]
  },
  {
   "cell_type": "markdown",
   "id": "00b32acf",
   "metadata": {},
   "source": [
    "# Partie 4 : Entraînement du modèle"
   ]
  },
  {
   "cell_type": "code",
   "execution_count": 111,
   "id": "4a512194",
   "metadata": {},
   "outputs": [],
   "source": [
    "# Préparation des dataloader\n",
    "\n",
    "from torch.utils.data import DataLoader\n",
    "\n",
    "batch_size = 32\n",
    "\n",
    "train_loader = DataLoader(dataset, batch_size=batch_size, shuffle=True)\n"
   ]
  },
  {
   "cell_type": "code",
   "execution_count": 112,
   "id": "e3c25104",
   "metadata": {},
   "outputs": [
    {
     "name": "stdout",
     "output_type": "stream",
     "text": [
      "Époque 1/10, Loss : 3.6821\n",
      "Époque 2/10, Loss : 1.0416\n",
      "Époque 3/10, Loss : 0.3232\n",
      "Époque 4/10, Loss : 0.2113\n",
      "Époque 5/10, Loss : 0.1842\n",
      "Époque 6/10, Loss : 0.1721\n",
      "Époque 7/10, Loss : 0.1672\n",
      "Époque 8/10, Loss : 0.1639\n",
      "Époque 9/10, Loss : 0.1622\n",
      "Époque 10/10, Loss : 0.1612\n"
     ]
    }
   ],
   "source": [
    "# Boucle d'entrainement \n",
    "\n",
    "import torch\n",
    "\n",
    "device = torch.device(\"cuda\" if torch.cuda.is_available() else \"cpu\")\n",
    "model = model.to(device)\n",
    "\n",
    "num_epochs = 10\n",
    "\n",
    "for epoch in range(num_epochs):\n",
    "    model.train()\n",
    "    total_loss = 0\n",
    "\n",
    "    for batch in train_loader:\n",
    "        src, tgt = batch\n",
    "        src, tgt = src.to(device), tgt.to(device)\n",
    "\n",
    "        optimizer.zero_grad()\n",
    "\n",
    "        output = model(src, tgt[:, :-1])  # input without the last token\n",
    "        loss = criterion(output.reshape(-1, output.shape[-1]), tgt[:, 1:].reshape(-1))  # target without the first token\n",
    "\n",
    "        loss.backward()\n",
    "        optimizer.step()\n",
    "\n",
    "        total_loss += loss.item()\n",
    "\n",
    "    avg_loss = total_loss / len(train_loader)\n",
    "    print(f\"Époque {epoch + 1}/{num_epochs}, Loss : {avg_loss:.4f}\")\n"
   ]
  },
  {
   "cell_type": "code",
   "execution_count": 113,
   "id": "f0ff6958",
   "metadata": {},
   "outputs": [
    {
     "name": "stdout",
     "output_type": "stream",
     "text": [
      "Époque 1/10 | Train Loss: 0.1572 | Val Loss: 0.1572\n",
      "🔁 Nouveau meilleur modèle sauvegardé\n",
      "Époque 2/10 | Train Loss: 0.1570 | Val Loss: 0.1550\n",
      "🔁 Nouveau meilleur modèle sauvegardé\n",
      "Époque 3/10 | Train Loss: 0.1570 | Val Loss: 0.1559\n",
      "Époque 4/10 | Train Loss: 0.1549 | Val Loss: 0.1565\n",
      "Époque 5/10 | Train Loss: 0.1560 | Val Loss: 0.1561\n",
      "Époque 6/10 | Train Loss: 0.1557 | Val Loss: 0.1553\n",
      "Époque 7/10 | Train Loss: 0.1541 | Val Loss: 0.1537\n",
      "🔁 Nouveau meilleur modèle sauvegardé\n",
      "Époque 8/10 | Train Loss: 0.1539 | Val Loss: 0.1531\n",
      "🔁 Nouveau meilleur modèle sauvegardé\n",
      "Époque 9/10 | Train Loss: 0.1535 | Val Loss: 0.1542\n",
      "Époque 10/10 | Train Loss: 0.1534 | Val Loss: 0.1522\n",
      "🔁 Nouveau meilleur modèle sauvegardé\n"
     ]
    }
   ],
   "source": [
    "# Entrainement du modèle\n",
    "\n",
    "import matplotlib.pyplot as plt\n",
    "\n",
    "# Initialisation\n",
    "train_losses = []\n",
    "val_losses = []\n",
    "best_val_loss = float('inf')\n",
    "\n",
    "for epoch in range(num_epochs):\n",
    "    model.train()\n",
    "    train_loss = 0\n",
    "\n",
    "    for src, tgt in train_loader:\n",
    "        src, tgt = src.to(device), tgt.to(device)\n",
    "        optimizer.zero_grad()\n",
    "        output = model(src, tgt[:, :-1])\n",
    "        loss = criterion(output.reshape(-1, output.shape[-1]), tgt[:, 1:].reshape(-1))\n",
    "        loss.backward()\n",
    "        optimizer.step()\n",
    "        train_loss += loss.item()\n",
    "\n",
    "    train_loss /= len(train_loader)\n",
    "    train_losses.append(train_loss)\n",
    "\n",
    "    # Validation\n",
    "    model.eval()\n",
    "    val_loss = 0\n",
    "    with torch.no_grad():\n",
    "        for src, tgt in val_loader:\n",
    "            src, tgt = src.to(device), tgt.to(device)\n",
    "            output = model(src, tgt[:, :-1])\n",
    "            loss = criterion(output.reshape(-1, output.shape[-1]), tgt[:, 1:].reshape(-1))\n",
    "            val_loss += loss.item()\n",
    "\n",
    "    val_loss /= len(val_loader)\n",
    "    val_losses.append(val_loss)\n",
    "\n",
    "    print(f\"Époque {epoch+1}/{num_epochs} | Train Loss: {train_loss:.4f} | Val Loss: {val_loss:.4f}\")\n",
    "\n",
    "    # Sauvegarde du meilleur modèle\n",
    "    if val_loss < best_val_loss:\n",
    "        best_val_loss = val_loss\n",
    "        torch.save({\n",
    "            \"model_state_dict\": model.state_dict(),\n",
    "            \"vocab\": word2idx,\n",
    "        }, \"../models/best_seq2seq_model.pth\")\n",
    "        print(\"🔁 Nouveau meilleur modèle sauvegardé\")"
   ]
  },
  {
   "cell_type": "code",
   "execution_count": 114,
   "id": "ba444bbb",
   "metadata": {},
   "outputs": [
    {
     "data": {
      "image/png": "[encoded data removed]",
      "text/plain": [
       "<Figure size 1000x600 with 1 Axes>"
      ]
     },
     "metadata": {},
     "output_type": "display_data"
    }
   ],
   "source": [
    "# Affichage des courbes de perte\n",
    "plt.figure(figsize=(10,6))\n",
    "plt.plot(train_losses, label=\"Train Loss\", marker=\"o\")\n",
    "plt.plot(val_losses, label=\"Validation Loss\", marker=\"s\")\n",
    "plt.xlabel(\"Époque\")\n",
    "plt.ylabel(\"Loss\")\n",
    "plt.title(\"Courbes de perte - Entraînement vs Validation\")\n",
    "plt.legend()\n",
    "plt.grid(True)\n",
    "plt.tight_layout()\n",
    "plt.show()"
   ]
  },
  {
   "cell_type": "code",
   "execution_count": 115,
   "id": "222f6534",
   "metadata": {},
   "outputs": [],
   "source": [
    "#  Sauvegarde du modèle\n",
    "\n",
    "torch.save(model.state_dict(), \"../models/seq2seq_model.pth\")"
   ]
  },
  {
   "cell_type": "code",
   "execution_count": 116,
   "id": "4e6a1c26",
   "metadata": {},
   "outputs": [
    {
     "data": {
      "text/plain": [
       "Seq2SeqModel(\n",
       "  (embedding): Embedding(173, 128, padding_idx=0)\n",
       "  (encoder): LSTM(128, 256, batch_first=True)\n",
       "  (decoder): LSTM(128, 256, batch_first=True)\n",
       "  (fc_out): Linear(in_features=256, out_features=173, bias=True)\n",
       ")"
      ]
     },
     "execution_count": 116,
     "metadata": {},
     "output_type": "execute_result"
    }
   ],
   "source": [
    "# Recharger le modèle pour prédire\n",
    "\n",
    "model.load_state_dict(torch.load(\"../models/seq2seq_model.pth\"))\n",
    "model.eval()"
   ]
  },
  {
   "cell_type": "code",
   "execution_count": 117,
   "id": "a8dd83c5",
   "metadata": {},
   "outputs": [],
   "source": [
    "def prepare_input(text, vocab, device):\n",
    "    tokens = text.strip().split()\n",
    "    tokens = [\"<sos>\"] + tokens + [\"<eos>\"]\n",
    "    indices = [vocab.get(token, vocab[\"<unk>\"]) for token in tokens]\n",
    "    tensor = torch.tensor(indices, dtype=torch.long).unsqueeze(0).to(device)  # Shape: (1, seq_len)\n",
    "    return tensor\n",
    "\n",
    "def decode(indices, idx2word):\n",
    "    words = [idx2word[idx] for idx in indices if idx2word[idx] not in (\"<pad>\", \"<sos>\", \"<eos>\")]\n",
    "    return \" \".join(words)\n",
    "\n",
    "\n",
    "def generate_response(prompt, model, vocab, idx2word, max_len=50, device=None):\n",
    "    device = device or torch.device(\"cuda\" if torch.cuda.is_available() else \"cpu\")\n",
    "    model.eval()\n",
    "    model.to(device)\n",
    "\n",
    "    src_tensor = prepare_input(prompt, vocab, device)\n",
    "\n",
    "    with torch.no_grad():\n",
    "        embedded_src = model.embedding(src_tensor)\n",
    "        _, (hidden, cell) = model.encoder(embedded_src)\n",
    "\n",
    "    generated_indices = [vocab[\"<sos>\"]]\n",
    "\n",
    "    for _ in range(max_len):\n",
    "        current_input = torch.tensor([[generated_indices[-1]]], dtype=torch.long).to(device)\n",
    "        with torch.no_grad():\n",
    "            embedded = model.embedding(current_input)\n",
    "            output, (hidden, cell) = model.decoder(embedded, (hidden, cell))\n",
    "            logits = model.fc_out(output.squeeze(1))\n",
    "            predicted_idx = torch.argmax(logits, dim=1).item()\n",
    "\n",
    "        if predicted_idx == vocab[\"<eos>\"]:\n",
    "            break\n",
    "\n",
    "        generated_indices.append(predicted_idx)\n",
    "\n",
    "    return decode(generated_indices[1:], idx2word)\n"
   ]
  },
  {
   "cell_type": "code",
   "execution_count": 118,
   "id": "e2bb1878",
   "metadata": {},
   "outputs": [
    {
     "name": "stdout",
     "output_type": "stream",
     "text": [
      "🔹 Prompt : Je veux faire une demande de : immatriculation d'un véhicule\n",
      "🔸 Réponse générée : description : ce service permet d’obtenir le document requis en toute légalité. durée estimée : 48h qui peut faire la demande ? tout citoyen béninois disposant des pièces requises. institution en charge : ministère de la justice démarches : faire une préinscription en ligne puis finaliser en agence.\n"
     ]
    }
   ],
   "source": [
    "prompt = \"Je veux faire une demande de : immatriculation d'un véhicule\"\n",
    "response = generate_response(prompt, model, word2idx, idx2word)\n",
    "print(\"🔹 Prompt :\", prompt)\n",
    "print(\"🔸 Réponse générée :\", response)"
   ]
  },
  {
   "cell_type": "code",
   "execution_count": 119,
   "id": "5793bc11",
   "metadata": {},
   "outputs": [],
   "source": [
    "import torch.nn.functional as F\n",
    "import random\n",
    "\n",
    "def sample_response(prompt, model, vocab, idx2word, max_len=50, temperature=1.0, device=None):\n",
    "    device = device or torch.device(\"cuda\" if torch.cuda.is_available() else \"cpu\")\n",
    "    model.eval()\n",
    "    model.to(device)\n",
    "\n",
    "    src_tensor = prepare_input(prompt, vocab, device)\n",
    "    with torch.no_grad():\n",
    "        embedded_src = model.embedding(src_tensor)\n",
    "        _, (hidden, cell) = model.encoder(embedded_src)\n",
    "\n",
    "    generated_indices = [vocab[\"<sos>\"]]\n",
    "\n",
    "    for _ in range(max_len):\n",
    "        current_input = torch.tensor([[generated_indices[-1]]], dtype=torch.long).to(device)\n",
    "        with torch.no_grad():\n",
    "            embedded = model.embedding(current_input)\n",
    "            output, (hidden, cell) = model.decoder(embedded, (hidden, cell))\n",
    "            logits = model.fc_out(output.squeeze(1)) / temperature\n",
    "            probs = F.softmax(logits, dim=1)\n",
    "            predicted_idx = torch.multinomial(probs, num_samples=1).item()\n",
    "\n",
    "        if predicted_idx == vocab[\"<eos>\"]:\n",
    "            break\n",
    "\n",
    "        generated_indices.append(predicted_idx)\n",
    "\n",
    "    return decode(generated_indices[1:], idx2word)"
   ]
  },
  {
   "cell_type": "code",
   "execution_count": 120,
   "id": "9ce63ec2",
   "metadata": {},
   "outputs": [
    {
     "name": "stdout",
     "output_type": "stream",
     "text": [
      "description : ce processus facilite l'obtention du document par les voies réglementaires. durée estimée : 48h qui peut faire la demande ? tout citoyen béninois disposant des pièces requises. institution en charge : mairie de cotonou démarches : faire une préinscription en ligne puis finaliser en agence.\n"
     ]
    }
   ],
   "source": [
    "prompt = \"Je veux faire une demande de : inscription à l'état civil\"\n",
    "print(sample_response(prompt, model, word2idx, idx2word))"
   ]
  },
  {
   "cell_type": "markdown",
   "id": "cb4317e9",
   "metadata": {},
   "source": []
  },
  {
   "cell_type": "code",
   "execution_count": 121,
   "id": "f290978d",
   "metadata": {},
   "outputs": [],
   "source": [
    "import torch\n",
    "\n",
    "def generate_completion(prompt_text, model, word2idx, idx2word, max_len=80, temperature=1.0, device=None):\n",
    "    \"\"\"\n",
    "    Génère une complétion à partir d'un prompt donné, avec sampling.\n",
    "\n",
    "    Args:\n",
    "        prompt_text (str): Texte d'entrée (prompt).\n",
    "        model (nn.Module): Modèle seq2seq entraîné.\n",
    "        word2idx (dict): Vocabulaire mot -> index.\n",
    "        idx2word (dict): Index -> mot.\n",
    "        max_len (int): Longueur max de la complétion.\n",
    "        temperature (float): Température pour la distribution de probas.\n",
    "        device (torch.device): Appareil (CPU/GPU).\n",
    "\n",
    "    Returns:\n",
    "        str: Texte généré.\n",
    "    \"\"\"\n",
    "    device = device or torch.device(\"cuda\" if torch.cuda.is_available() else \"cpu\")\n",
    "    model.eval()\n",
    "    model.to(device)\n",
    "\n",
    "    # Prépare la séquence d'entrée encodée (tensor 1D)\n",
    "    src_tensor = prepare_input(prompt_text, word2idx, device)  # -> (1, src_len)\n",
    "    \n",
    "    # Encode l'entrée\n",
    "    with torch.no_grad():\n",
    "        embedded_src = model.embedding(src_tensor)\n",
    "        _, (hidden, cell) = model.encoder(embedded_src)\n",
    "\n",
    "    # Démarre la génération avec <sos>\n",
    "    input_token = torch.tensor([[word2idx[\"<sos>\"]]], dtype=torch.long).to(device)  # (1,1)\n",
    "    generated_tokens = []\n",
    "\n",
    "    for _ in range(max_len):\n",
    "        embedded_input = model.embedding(input_token)  # (1,1,embed_dim)\n",
    "        output, (hidden, cell) = model.decoder(embedded_input, (hidden, cell))  # output: (1,1,hidden_dim)\n",
    "        logits = model.fc_out(output.squeeze(1)) / temperature  # (1, vocab_size)\n",
    "        probs = torch.softmax(logits, dim=-1)\n",
    "\n",
    "        # Sample un token selon la distribution\n",
    "        next_token = torch.multinomial(probs, num_samples=1)  # (1,1)\n",
    "\n",
    "        token_id = next_token.item()\n",
    "        if token_id == word2idx[\"<eos>\"]:\n",
    "            break\n",
    "\n",
    "        generated_tokens.append(token_id)\n",
    "        input_token = next_token.view(1, 1)  # assure shape (1,1)\n",
    "\n",
    "    # Convertir la liste d’indices en mots\n",
    "    generated_words = [idx2word[idx] for idx in generated_tokens]\n",
    "\n",
    "    return \" \".join(generated_words)"
   ]
  },
  {
   "cell_type": "code",
   "execution_count": 125,
   "id": "26bc6fef",
   "metadata": {},
   "outputs": [
    {
     "name": "stdout",
     "output_type": "stream",
     "text": [
      "Prompt : Je veux faire une demande de : régularisation de terrain domanial\n",
      "Complétion : description : ce service est indispensable pour toute personne concernée par cette situation. durée estimée : 72h qui peut faire la demande ? tout citoyen béninois disposant des pièces requises. institution en charge : mairie de résidence démarches : faire une préinscription en ligne puis finaliser en agence.\n"
     ]
    }
   ],
   "source": [
    "prompt = \"Je veux faire une demande de : régularisation de terrain domanial\"\n",
    "completion = generate_completion(prompt, model, word2idx, idx2word, max_len=50, temperature=0.8, device=device)\n",
    "print(\"Prompt :\", prompt)\n",
    "print(\"Complétion :\", completion)"
   ]
  }
 ],
 "metadata": {
  "kernelspec": {
   "display_name": "Python 3",
   "language": "python",
   "name": "python3"
  },
  "language_info": {
   "codemirror_mode": {
    "name": "ipython",
    "version": 3
   },
   "file_extension": ".py",
   "mimetype": "text/x-python",
   "name": "python",
   "nbconvert_exporter": "python",
   "pygments_lexer": "ipython3",
   "version": "3.10.0"
  }
 },
 "nbformat": 4,
 "nbformat_minor": 5
}
